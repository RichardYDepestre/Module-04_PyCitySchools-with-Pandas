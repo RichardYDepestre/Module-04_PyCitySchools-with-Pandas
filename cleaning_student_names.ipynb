{
 "cells": [
  {
   "cell_type": "code",
   "execution_count": 88,
   "id": "prepared-senegal",
   "metadata": {},
   "outputs": [],
   "source": [
    "import pandas as pd"
   ]
  },
  {
   "cell_type": "code",
   "execution_count": 92,
   "id": "coated-earth",
   "metadata": {},
   "outputs": [
    {
     "name": "stdout",
     "output_type": "stream",
     "text": [
      "['Joseph Morales III', 'Xavier Bell II', 'David Miller Jr.', 'Reginald Garcia IV', 'Kevin Brown IV', 'William Washington Jr.', 'Juan Bryant II', 'Kenneth Paul Jr.', 'Scott Rivers III', 'Mark Myers Jr.', 'Michael Norton Jr.', 'Sean Pena Jr.', 'Cody Mueller Jr.', 'Mathew White Jr.', 'Jason Daugherty Jr.', 'Leonard Webster II', 'Michael Stein Jr.', 'Ryan Phillips Jr.', 'Allen Snyder Jr.', 'Calvin Williams Jr.', 'Ronald Torres Jr.', 'Gabriel Smith III', 'Brian Pitts Jr.', 'Bruce Thompson II', 'Jeremy Sanders II', 'Austin Johnson II', 'Bryan Conway Jr.', 'Ronald Moore II', 'Robert Garrison IV', 'William Gonzalez Jr.', 'Brian Matthews Jr.', 'Eric Richards Jr.', 'Kenneth Munoz Jr.', 'Jon Delgado Jr.', 'Andrew English Jr.', 'Raymond Cox Jr.', 'Jeffrey Mcclain Jr.', 'Brian Poole V', 'Jeffrey Kim II', 'Matthew Alexander Jr.', 'Kevin Reynolds Jr.', 'Jacob Skinner Jr.', 'Dennis Gibson Jr.', 'Jimmy Shea Jr.', 'James Reed Jr.', 'Jeffery Baker Jr.', 'Derrick Hughes III', 'Joshua Rivera Jr.', 'Timothy Guzman Jr.', 'Lonnie Allen II', 'Tyrone Clark III', 'Jeffrey Nelson Jr.', 'Michael Mann II', 'David Johnson Jr.', 'Timothy Chavez Jr.', 'Brian Powell III', 'Lance Rangel Jr.', 'Noah Herrera Jr.', 'Eric Johnson Jr.', 'Victor Chavez II', 'Richard Ellis Jr.', 'Charles Goodman Jr.', 'Michael Singh Jr.', 'Jonathan Smith Jr.', 'Allen Morris Jr.', 'Aaron Solis Jr.', 'Daniel Mckinney Jr.', 'Christopher Petty Jr.', 'Michael Garcia Jr.', 'Charles Short II', 'Derek Barker Jr.', 'Zachary Garrett III', 'Thomas Harrison Jr.', 'Andrew Mitchell V', 'Aaron Davis Jr.', 'Brian Bailey Jr.', 'Jeremiah Morris IV', 'David Morales Jr.', 'Larry Chandler Jr.', 'James Clark II', 'Cameron Roman Jr.', 'Christopher Smith Jr.', 'Todd Grant Jr.', 'Kenneth Avila Jr.', 'Jason Lopez Jr.', 'Dwayne Mathis Jr.', 'Colton Collins II', 'Chris Palmer III', 'Tyler Randall Jr.', 'Joseph Morgan IV', 'Carlos Adkins Jr.', 'Mark Livingston Jr.', 'Michael Williams III', 'Eric Evans III', 'Christopher Thornton Jr.', 'Adam Hayes III', 'Michael Moore Jr.', 'Joseph Hudson II', 'William Brooks Jr.', 'Daniel Welch II', 'Roger Horton Jr.', 'Cory Marshall II', 'Joshua Thompson Jr.', 'Jon Flores II', 'Philip Jones Jr.', 'Greg Joyce Jr.', 'Thomas Frye Jr.', 'Joseph Marquez Jr.', 'Robert Smith Jr.', 'David Beck Jr.', 'Ryan Gomez II', 'Erik Smith Jr.', 'Omar Thompson Jr.', 'Leonard Roberts Jr.', 'Duane Li Jr.', 'Richard Lucero Jr.', 'Seth Medina Jr.', 'Anthony Carlson Jr.', 'Edward Dudley II', 'Matthew Lewis Jr.', 'Christopher Bowers Jr.', 'Timothy Hughes Jr.', 'Kevin Hoover IV', 'David Butler Jr.', 'Michael Wilson Jr.', 'George Hess Jr.', 'Kevin Briggs Jr.', 'Joseph Matthews III', 'Dylan Bailey Jr.', 'Anthony Woods Jr.', 'Michael Harris Jr.', 'Daniel Diaz Jr.', 'Taylor Thompson Jr.', 'Daniel Robinson Jr.', 'Ronald Phelps Jr.', 'Jonathan Reid II', 'Joshua Smith Jr.', 'Joseph Herrera III', 'Tony Robertson II', 'James Fowler III', 'William Wright II', 'Thomas Carrillo II', 'Matthew Bennett Jr.', 'Mark Lucas IV', 'Keith Newman Jr.', 'Matthew Mitchell III', 'Colin Schultz II', 'Terry Scott Jr.', 'Jason Patel Jr.', 'Steven Lewis Jr.', 'Lucas Williams Jr.']\n"
     ]
    },
    {
     "name": "stderr",
     "output_type": "stream",
     "text": [
      "<ipython-input-92-d4a500988eeb>:48: FutureWarning: The default value of regex will change from True to False in a future version.\n",
      "  student_data_df[\"student_name\"] = student_data_df[\"student_name\"].str.replace(word,\"\")\n"
     ]
    }
   ],
   "source": [
    "student_data_to_load = \"resources/students_complete.csv\"\n",
    "student_data_df = pd.read_csv(student_data_to_load)\n",
    "\n",
    "# retrieve student name\n",
    "student_names =student_data_df[\"student_name\"].to_list()\n",
    "#name = \"Mrs. Linda Santiago\"\n",
    "# len(name.split())\n",
    "\n",
    "students_to_fix = list()\n",
    "for name in student_names:\n",
    "    if(len(name.split()) >= 3):\n",
    "        students_to_fix.append(name)\n",
    "#     print(name.split(), len(name.split()))\n",
    "len(students_to_fix)\n",
    "# print(students_to_fix)\n",
    "\n",
    "# Add the prefixes less than or equal to 4 to a new list.\n",
    "prefixes = list()\n",
    "# load list with items\n",
    "for name in students_to_fix:\n",
    "    if len(name.split()[0]) <= 4:\n",
    "        prefixes.append(name.split()[0])\n",
    "# print(prefixes)\n",
    "\n",
    "# Add the suffixes less than or equal to 3 to a new list.\n",
    "suffixes = list()\n",
    "for name in students_to_fix:\n",
    "    if len(name.split()[-1]) <= 3:\n",
    "        suffixes.append(name.split()[-1])\n",
    "\n",
    "#print(suffixes)\n",
    "\n",
    "# The set() method returns all unique items in a list when that list is added inside the parentheses.\n",
    "# Get the unique items in the \"prefixes\" list.\n",
    "# set(prefixes)\n",
    "# set(suffixes)\n",
    "\n",
    "# Strip \"Mrs.\" from the student names\n",
    "# for name in students_to_fix:\n",
    "#     print(name.replace(\"Dr. \", \"\"))\n",
    "    \n",
    "#1) declare a list named\n",
    "prefixes_suffixes = [\"Dr. \", \"Mr. \",\"Ms. \", \"Mrs. \", \"Miss \", \" MD\", \" DDS\", \" DVM\", \" PhD\"]\n",
    "\n",
    "# Iterate through the \"prefixes_suffixes\" list and replace them with an empty space, \"\" \n",
    "# when it appears in the student's name.\n",
    "for word in prefixes_suffixes:\n",
    "    student_data_df[\"student_name\"] = student_data_df[\"student_name\"].str.replace(word,\"\") \n",
    "student_data_df.head(10)\n",
    "\n",
    "# # new variable\n",
    "# student_data_df[\"student_name\"]= student_data_df[\"student_name\"].to_list()\n",
    "student_names= student_data_df[\"student_name\"].to_list()\n",
    "# student_name_list\n",
    "\n",
    "# # put it together\n",
    "students_fixed = []\n",
    "for name in student_names:\n",
    "    if len(name.split()) >= 3:\n",
    "        students_fixed.append(name)\n",
    "\n",
    "len(students_fixed)\n",
    "print(students_fixed)"
   ]
  },
  {
   "cell_type": "code",
   "execution_count": null,
   "id": "alpine-simple",
   "metadata": {},
   "outputs": [],
   "source": []
  },
  {
   "cell_type": "code",
   "execution_count": null,
   "id": "surprised-operator",
   "metadata": {},
   "outputs": [],
   "source": []
  }
 ],
 "metadata": {
  "kernelspec": {
   "display_name": "Python 3",
   "language": "python",
   "name": "python3"
  },
  "language_info": {
   "codemirror_mode": {
    "name": "ipython",
    "version": 3
   },
   "file_extension": ".py",
   "mimetype": "text/x-python",
   "name": "python",
   "nbconvert_exporter": "python",
   "pygments_lexer": "ipython3",
   "version": "3.8.5"
  }
 },
 "nbformat": 4,
 "nbformat_minor": 5
}
